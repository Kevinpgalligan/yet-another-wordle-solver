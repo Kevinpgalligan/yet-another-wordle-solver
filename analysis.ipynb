{
 "cells": [
  {
   "cell_type": "code",
   "execution_count": 15,
   "id": "reliable-douglas",
   "metadata": {},
   "outputs": [],
   "source": [
    "import matplotlib.pyplot as plt\n",
    "from collections import defaultdict\n",
    "plt.style.use('tableau-colorblind10')"
   ]
  },
  {
   "cell_type": "code",
   "execution_count": 16,
   "id": "recognized-macintosh",
   "metadata": {},
   "outputs": [],
   "source": [
    "with open(\"secrets.txt\", \"r\") as f:\n",
    "     words = [line.strip() for line in f.readlines()]\n",
    "lcounts = defaultdict(int)\n",
    "total_letters = 0\n",
    "for word in words:\n",
    "    total_letters += len(word)\n",
    "    for c in word:\n",
    "        lcounts[c] += 1"
   ]
  },
  {
   "cell_type": "code",
   "execution_count": 17,
   "id": "breeding-temperature",
   "metadata": {},
   "outputs": [],
   "source": [
    "proportions_sorted = list(sorted([(letter, count/total_letters) for letter, count in lcounts.items()],\n",
    "                                 key=lambda p: p[1], reverse=True))"
   ]
  },
  {
   "cell_type": "code",
   "execution_count": 18,
   "id": "determined-municipality",
   "metadata": {},
   "outputs": [
    {
     "data": {
      "text/plain": [
       "[('e', 0.10652267818574514),\n",
       " ('a', 0.08457883369330453),\n",
       " ('r', 0.07766738660907127),\n",
       " ('o', 0.0651403887688985),\n",
       " ('t', 0.06298056155507559),\n",
       " ('l', 0.06211663066954644),\n",
       " ('i', 0.057969762419006476),\n",
       " ('s', 0.057796976241900645),\n",
       " ('n', 0.04967602591792657),\n",
       " ('c', 0.04120950323974082)]"
      ]
     },
     "execution_count": 18,
     "metadata": {},
     "output_type": "execute_result"
    }
   ],
   "source": [
    "proportions_sorted[:10]"
   ]
  },
  {
   "cell_type": "code",
   "execution_count": 22,
   "id": "auburn-accountability",
   "metadata": {},
   "outputs": [
    {
     "data": {
      "image/png": "[encoded data removed]",
      "text/plain": [
       "<Figure size 432x288 with 1 Axes>"
      ]
     },
     "metadata": {
      "needs_background": "light"
     },
     "output_type": "display_data"
    }
   ],
   "source": [
    "xs = [0.5+x for x in range(len(proportions_sorted))]\n",
    "plt.bar(xs,\n",
    "        [p for l, p in proportions_sorted],\n",
    "        tick_label=[l for l, p in proportions_sorted],\n",
    "        zorder=3)\n",
    "plt.grid(\"--\", alpha=0.5, zorder=0)\n",
    "plt.ylabel(\"fraction\")\n",
    "plt.savefig(\"/tmp/letterfreq.png\")"
   ]
  },
  {
   "cell_type": "code",
   "execution_count": 60,
   "id": "accomplished-youth",
   "metadata": {},
   "outputs": [
    {
     "data": {
      "image/png": "[encoded data removed]",
      "text/plain": [
       "<Figure size 432x288 with 1 Axes>"
      ]
     },
     "metadata": {
      "needs_background": "light"
     },
     "output_type": "display_data"
    }
   ],
   "source": [
    "my_scores = [(1, 0), (2, 2), (3, 5), (4, 13), (5, 5), (6, 3)]\n",
    "solver_scores = [(1, 1), (2, 57), (3, 1115), (4, 1082), (5, 61), (6, 0)]\n",
    "def plot_scores(ss, offset, label):\n",
    "    total = sum(c for g, c in ss)\n",
    "    bar = plt.bar([x+offset for x in range(len(ss))],\n",
    "                  [c/total for g, c in ss],\n",
    "                  tick_label=None,\n",
    "                  label=label,\n",
    "                  width=0.25,\n",
    "                  zorder=3)\n",
    "    for rect, count in zip(bar, [c for g, c in ss]):\n",
    "        height = rect.get_height()\n",
    "        plt.text(rect.get_x() + rect.get_width() / 2 + offset/1.25,\n",
    "                 height*1.015,\n",
    "                 f'{count}',\n",
    "                 ha='center',\n",
    "                 va='bottom',\n",
    "                 fontdict=dict(fontsize='small'))\n",
    "\n",
    "plot_scores(my_scores, -0.125, \"My scores\")\n",
    "plot_scores(solver_scores, 0.125, \"Solver scores\")\n",
    "plt.xticks(\n",
    "    list(range(len(my_scores))),\n",
    "    labels=[g for g, c in my_scores])\n",
    "plt.ylabel(\"fraction\")\n",
    "plt.xlabel(\"number of guesses\")\n",
    "plt.grid(\"--\", alpha=0.5, zorder=0)\n",
    "plt.ylim(top=0.55)\n",
    "plt.legend()\n",
    "plt.savefig(\"/tmp/me-vs-solver.png\")"
   ]
  },
  {
   "cell_type": "code",
   "execution_count": null,
   "id": "patent-banks",
   "metadata": {},
   "outputs": [],
   "source": []
  }
 ],
 "metadata": {
  "kernelspec": {
   "display_name": "Python 3",
   "language": "python",
   "name": "python3"
  },
  "language_info": {
   "codemirror_mode": {
    "name": "ipython",
    "version": 3
   },
   "file_extension": ".py",
   "mimetype": "text/x-python",
   "name": "python",
   "nbconvert_exporter": "python",
   "pygments_lexer": "ipython3",
   "version": "3.8.5"
  }
 },
 "nbformat": 4,
 "nbformat_minor": 5
}
